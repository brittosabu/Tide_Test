{
 "cells": [
  {
   "cell_type": "code",
   "execution_count": 286,
   "metadata": {},
   "outputs": [],
   "source": [
    "import pandas as pd\n",
    "import numpy as np\n",
    "import seaborn as sns\n",
    "import random\n",
    "random.seed(10)\n",
    "from pandas_profiling import ProfileReport\n",
    "from matplotlib import pyplot as plt\n",
    "from pprint import pprint\n",
    "from sklearn.model_selection import RandomizedSearchCV\n",
    "from sklearn.ensemble import RandomForestRegressor\n",
    "from sklearn.model_selection import train_test_split\n",
    "from sklearn.metrics import recall_score,confusion_matrix\n",
    "plt.rcParams[\"figure.figsize\"] = (12,7)\n",
    "import warnings\n",
    "warnings.filterwarnings(\"ignore\")"
   ]
  },
  {
   "cell_type": "code",
   "execution_count": 3,
   "metadata": {},
   "outputs": [],
   "source": [
    "df = pd.read_csv('data/data_interview_test.csv',sep=\":\")"
   ]
  },
  {
   "cell_type": "markdown",
   "metadata": {},
   "source": [
    "## Exploratory Data Analysis"
   ]
  },
  {
   "cell_type": "code",
   "execution_count": 12,
   "metadata": {},
   "outputs": [
    {
     "data": {
      "text/plain": [
       "(12034, 14)"
      ]
     },
     "execution_count": 12,
     "metadata": {},
     "output_type": "execute_result"
    }
   ],
   "source": [
    "df.shape"
   ]
  },
  {
   "cell_type": "code",
   "execution_count": 7,
   "metadata": {
    "scrolled": false
   },
   "outputs": [
    {
     "data": {
      "text/html": [
       "<div>\n",
       "<style scoped>\n",
       "    .dataframe tbody tr th:only-of-type {\n",
       "        vertical-align: middle;\n",
       "    }\n",
       "\n",
       "    .dataframe tbody tr th {\n",
       "        vertical-align: top;\n",
       "    }\n",
       "\n",
       "    .dataframe thead th {\n",
       "        text-align: right;\n",
       "    }\n",
       "</style>\n",
       "<table border=\"1\" class=\"dataframe\">\n",
       "  <thead>\n",
       "    <tr style=\"text-align: right;\">\n",
       "      <th></th>\n",
       "      <th>receipt_id</th>\n",
       "      <th>company_id</th>\n",
       "      <th>matched_transaction_id</th>\n",
       "      <th>feature_transaction_id</th>\n",
       "      <th>DateMappingMatch</th>\n",
       "      <th>AmountMappingMatch</th>\n",
       "      <th>DescriptionMatch</th>\n",
       "      <th>DifferentPredictedTime</th>\n",
       "      <th>TimeMappingMatch</th>\n",
       "      <th>PredictedNameMatch</th>\n",
       "      <th>ShortNameMatch</th>\n",
       "      <th>DifferentPredictedDate</th>\n",
       "      <th>PredictedAmountMatch</th>\n",
       "      <th>PredictedTimeCloseMatch</th>\n",
       "    </tr>\n",
       "  </thead>\n",
       "  <tbody>\n",
       "    <tr>\n",
       "      <th>0</th>\n",
       "      <td>10,000</td>\n",
       "      <td>10000</td>\n",
       "      <td>10,468</td>\n",
       "      <td>10,000</td>\n",
       "      <td>0.0</td>\n",
       "      <td>0.0</td>\n",
       "      <td>0.0</td>\n",
       "      <td>1.0</td>\n",
       "      <td>0.0</td>\n",
       "      <td>0.0</td>\n",
       "      <td>0.0</td>\n",
       "      <td>1.0</td>\n",
       "      <td>0.0</td>\n",
       "      <td>0.0</td>\n",
       "    </tr>\n",
       "    <tr>\n",
       "      <th>1</th>\n",
       "      <td>10,000</td>\n",
       "      <td>10000</td>\n",
       "      <td>10,468</td>\n",
       "      <td>10,001</td>\n",
       "      <td>0.0</td>\n",
       "      <td>0.0</td>\n",
       "      <td>0.0</td>\n",
       "      <td>1.0</td>\n",
       "      <td>0.0</td>\n",
       "      <td>0.0</td>\n",
       "      <td>0.0</td>\n",
       "      <td>1.0</td>\n",
       "      <td>0.0</td>\n",
       "      <td>0.0</td>\n",
       "    </tr>\n",
       "    <tr>\n",
       "      <th>2</th>\n",
       "      <td>10,000</td>\n",
       "      <td>10000</td>\n",
       "      <td>10,468</td>\n",
       "      <td>10,003</td>\n",
       "      <td>0.0</td>\n",
       "      <td>0.0</td>\n",
       "      <td>0.0</td>\n",
       "      <td>1.0</td>\n",
       "      <td>0.0</td>\n",
       "      <td>0.0</td>\n",
       "      <td>0.0</td>\n",
       "      <td>1.0</td>\n",
       "      <td>0.0</td>\n",
       "      <td>0.0</td>\n",
       "    </tr>\n",
       "    <tr>\n",
       "      <th>3</th>\n",
       "      <td>10,000</td>\n",
       "      <td>10000</td>\n",
       "      <td>10,468</td>\n",
       "      <td>10,004</td>\n",
       "      <td>0.0</td>\n",
       "      <td>0.0</td>\n",
       "      <td>0.0</td>\n",
       "      <td>1.0</td>\n",
       "      <td>0.0</td>\n",
       "      <td>0.0</td>\n",
       "      <td>0.0</td>\n",
       "      <td>1.0</td>\n",
       "      <td>0.0</td>\n",
       "      <td>0.0</td>\n",
       "    </tr>\n",
       "    <tr>\n",
       "      <th>4</th>\n",
       "      <td>10,000</td>\n",
       "      <td>10000</td>\n",
       "      <td>10,468</td>\n",
       "      <td>10,005</td>\n",
       "      <td>0.0</td>\n",
       "      <td>0.0</td>\n",
       "      <td>0.0</td>\n",
       "      <td>1.0</td>\n",
       "      <td>0.0</td>\n",
       "      <td>0.0</td>\n",
       "      <td>0.0</td>\n",
       "      <td>1.0</td>\n",
       "      <td>0.0</td>\n",
       "      <td>0.0</td>\n",
       "    </tr>\n",
       "    <tr>\n",
       "      <th>5</th>\n",
       "      <td>10,000</td>\n",
       "      <td>10000</td>\n",
       "      <td>10,468</td>\n",
       "      <td>10,006</td>\n",
       "      <td>0.0</td>\n",
       "      <td>0.0</td>\n",
       "      <td>0.0</td>\n",
       "      <td>1.0</td>\n",
       "      <td>0.0</td>\n",
       "      <td>0.0</td>\n",
       "      <td>0.0</td>\n",
       "      <td>1.0</td>\n",
       "      <td>0.0</td>\n",
       "      <td>0.0</td>\n",
       "    </tr>\n",
       "    <tr>\n",
       "      <th>6</th>\n",
       "      <td>10,000</td>\n",
       "      <td>10000</td>\n",
       "      <td>10,468</td>\n",
       "      <td>10,008</td>\n",
       "      <td>0.0</td>\n",
       "      <td>0.0</td>\n",
       "      <td>0.0</td>\n",
       "      <td>1.0</td>\n",
       "      <td>0.0</td>\n",
       "      <td>0.0</td>\n",
       "      <td>0.0</td>\n",
       "      <td>1.0</td>\n",
       "      <td>0.0</td>\n",
       "      <td>0.0</td>\n",
       "    </tr>\n",
       "    <tr>\n",
       "      <th>7</th>\n",
       "      <td>10,000</td>\n",
       "      <td>10000</td>\n",
       "      <td>10,468</td>\n",
       "      <td>10,009</td>\n",
       "      <td>0.0</td>\n",
       "      <td>0.0</td>\n",
       "      <td>0.0</td>\n",
       "      <td>1.0</td>\n",
       "      <td>0.0</td>\n",
       "      <td>0.0</td>\n",
       "      <td>0.0</td>\n",
       "      <td>1.0</td>\n",
       "      <td>0.0</td>\n",
       "      <td>0.0</td>\n",
       "    </tr>\n",
       "    <tr>\n",
       "      <th>8</th>\n",
       "      <td>10,000</td>\n",
       "      <td>10000</td>\n",
       "      <td>10,468</td>\n",
       "      <td>10,010</td>\n",
       "      <td>0.0</td>\n",
       "      <td>0.0</td>\n",
       "      <td>0.0</td>\n",
       "      <td>1.0</td>\n",
       "      <td>0.0</td>\n",
       "      <td>0.0</td>\n",
       "      <td>0.0</td>\n",
       "      <td>1.0</td>\n",
       "      <td>0.0</td>\n",
       "      <td>0.0</td>\n",
       "    </tr>\n",
       "    <tr>\n",
       "      <th>9</th>\n",
       "      <td>10,000</td>\n",
       "      <td>10000</td>\n",
       "      <td>10,468</td>\n",
       "      <td>10,011</td>\n",
       "      <td>0.0</td>\n",
       "      <td>0.0</td>\n",
       "      <td>0.0</td>\n",
       "      <td>1.0</td>\n",
       "      <td>0.0</td>\n",
       "      <td>0.0</td>\n",
       "      <td>0.0</td>\n",
       "      <td>1.0</td>\n",
       "      <td>0.0</td>\n",
       "      <td>0.0</td>\n",
       "    </tr>\n",
       "  </tbody>\n",
       "</table>\n",
       "</div>"
      ],
      "text/plain": [
       "  receipt_id  company_id matched_transaction_id feature_transaction_id  ...  ShortNameMatch  DifferentPredictedDate  PredictedAmountMatch  PredictedTimeCloseMatch\n",
       "0     10,000       10000                 10,468                 10,000  ...             0.0                     1.0                   0.0                      0.0\n",
       "1     10,000       10000                 10,468                 10,001  ...             0.0                     1.0                   0.0                      0.0\n",
       "2     10,000       10000                 10,468                 10,003  ...             0.0                     1.0                   0.0                      0.0\n",
       "3     10,000       10000                 10,468                 10,004  ...             0.0                     1.0                   0.0                      0.0\n",
       "4     10,000       10000                 10,468                 10,005  ...             0.0                     1.0                   0.0                      0.0\n",
       "5     10,000       10000                 10,468                 10,006  ...             0.0                     1.0                   0.0                      0.0\n",
       "6     10,000       10000                 10,468                 10,008  ...             0.0                     1.0                   0.0                      0.0\n",
       "7     10,000       10000                 10,468                 10,009  ...             0.0                     1.0                   0.0                      0.0\n",
       "8     10,000       10000                 10,468                 10,010  ...             0.0                     1.0                   0.0                      0.0\n",
       "9     10,000       10000                 10,468                 10,011  ...             0.0                     1.0                   0.0                      0.0\n",
       "\n",
       "[10 rows x 14 columns]"
      ]
     },
     "execution_count": 7,
     "metadata": {},
     "output_type": "execute_result"
    }
   ],
   "source": [
    "df.head(10)"
   ]
  },
  {
   "cell_type": "code",
   "execution_count": 9,
   "metadata": {},
   "outputs": [
    {
     "data": {
      "text/html": [
       "<div>\n",
       "<style scoped>\n",
       "    .dataframe tbody tr th:only-of-type {\n",
       "        vertical-align: middle;\n",
       "    }\n",
       "\n",
       "    .dataframe tbody tr th {\n",
       "        vertical-align: top;\n",
       "    }\n",
       "\n",
       "    .dataframe thead th {\n",
       "        text-align: right;\n",
       "    }\n",
       "</style>\n",
       "<table border=\"1\" class=\"dataframe\">\n",
       "  <thead>\n",
       "    <tr style=\"text-align: right;\">\n",
       "      <th></th>\n",
       "      <th>company_id</th>\n",
       "      <th>DateMappingMatch</th>\n",
       "      <th>AmountMappingMatch</th>\n",
       "      <th>DescriptionMatch</th>\n",
       "      <th>DifferentPredictedTime</th>\n",
       "      <th>TimeMappingMatch</th>\n",
       "      <th>PredictedNameMatch</th>\n",
       "      <th>ShortNameMatch</th>\n",
       "      <th>DifferentPredictedDate</th>\n",
       "      <th>PredictedAmountMatch</th>\n",
       "      <th>PredictedTimeCloseMatch</th>\n",
       "    </tr>\n",
       "  </thead>\n",
       "  <tbody>\n",
       "    <tr>\n",
       "      <th>count</th>\n",
       "      <td>12034.000000</td>\n",
       "      <td>12034.000000</td>\n",
       "      <td>12034.000000</td>\n",
       "      <td>12034.000000</td>\n",
       "      <td>12034.000000</td>\n",
       "      <td>12034.000000</td>\n",
       "      <td>12034.000000</td>\n",
       "      <td>12034.000000</td>\n",
       "      <td>12034.000000</td>\n",
       "      <td>12034.000000</td>\n",
       "      <td>12034.000000</td>\n",
       "    </tr>\n",
       "    <tr>\n",
       "      <th>mean</th>\n",
       "      <td>27247.797906</td>\n",
       "      <td>0.217901</td>\n",
       "      <td>0.031660</td>\n",
       "      <td>0.021522</td>\n",
       "      <td>0.986455</td>\n",
       "      <td>0.013877</td>\n",
       "      <td>0.024215</td>\n",
       "      <td>0.037893</td>\n",
       "      <td>0.753532</td>\n",
       "      <td>0.001005</td>\n",
       "      <td>0.076533</td>\n",
       "    </tr>\n",
       "    <tr>\n",
       "      <th>std</th>\n",
       "      <td>12024.542988</td>\n",
       "      <td>0.384535</td>\n",
       "      <td>0.122611</td>\n",
       "      <td>0.116995</td>\n",
       "      <td>0.115597</td>\n",
       "      <td>0.116987</td>\n",
       "      <td>0.128646</td>\n",
       "      <td>0.190945</td>\n",
       "      <td>0.430972</td>\n",
       "      <td>0.020134</td>\n",
       "      <td>0.265860</td>\n",
       "    </tr>\n",
       "    <tr>\n",
       "      <th>min</th>\n",
       "      <td>10000.000000</td>\n",
       "      <td>0.000000</td>\n",
       "      <td>0.000000</td>\n",
       "      <td>0.000000</td>\n",
       "      <td>0.000000</td>\n",
       "      <td>0.000000</td>\n",
       "      <td>0.000000</td>\n",
       "      <td>0.000000</td>\n",
       "      <td>0.000000</td>\n",
       "      <td>0.000000</td>\n",
       "      <td>0.000000</td>\n",
       "    </tr>\n",
       "    <tr>\n",
       "      <th>25%</th>\n",
       "      <td>20000.000000</td>\n",
       "      <td>0.000000</td>\n",
       "      <td>0.000000</td>\n",
       "      <td>0.000000</td>\n",
       "      <td>1.000000</td>\n",
       "      <td>0.000000</td>\n",
       "      <td>0.000000</td>\n",
       "      <td>0.000000</td>\n",
       "      <td>1.000000</td>\n",
       "      <td>0.000000</td>\n",
       "      <td>0.000000</td>\n",
       "    </tr>\n",
       "    <tr>\n",
       "      <th>50%</th>\n",
       "      <td>30000.000000</td>\n",
       "      <td>0.000000</td>\n",
       "      <td>0.000000</td>\n",
       "      <td>0.000000</td>\n",
       "      <td>1.000000</td>\n",
       "      <td>0.000000</td>\n",
       "      <td>0.000000</td>\n",
       "      <td>0.000000</td>\n",
       "      <td>1.000000</td>\n",
       "      <td>0.000000</td>\n",
       "      <td>0.000000</td>\n",
       "    </tr>\n",
       "    <tr>\n",
       "      <th>75%</th>\n",
       "      <td>30000.000000</td>\n",
       "      <td>0.000000</td>\n",
       "      <td>0.000000</td>\n",
       "      <td>0.000000</td>\n",
       "      <td>1.000000</td>\n",
       "      <td>0.000000</td>\n",
       "      <td>0.000000</td>\n",
       "      <td>0.000000</td>\n",
       "      <td>1.000000</td>\n",
       "      <td>0.000000</td>\n",
       "      <td>0.000000</td>\n",
       "    </tr>\n",
       "    <tr>\n",
       "      <th>max</th>\n",
       "      <td>50000.000000</td>\n",
       "      <td>1.000000</td>\n",
       "      <td>0.900000</td>\n",
       "      <td>0.800000</td>\n",
       "      <td>1.000000</td>\n",
       "      <td>1.000000</td>\n",
       "      <td>0.800000</td>\n",
       "      <td>1.000000</td>\n",
       "      <td>1.000000</td>\n",
       "      <td>0.600000</td>\n",
       "      <td>1.000000</td>\n",
       "    </tr>\n",
       "  </tbody>\n",
       "</table>\n",
       "</div>"
      ],
      "text/plain": [
       "         company_id  DateMappingMatch  AmountMappingMatch  DescriptionMatch  ...  ShortNameMatch  DifferentPredictedDate  PredictedAmountMatch  PredictedTimeCloseMatch\n",
       "count  12034.000000      12034.000000        12034.000000      12034.000000  ...    12034.000000            12034.000000          12034.000000             12034.000000\n",
       "mean   27247.797906          0.217901            0.031660          0.021522  ...        0.037893                0.753532              0.001005                 0.076533\n",
       "std    12024.542988          0.384535            0.122611          0.116995  ...        0.190945                0.430972              0.020134                 0.265860\n",
       "min    10000.000000          0.000000            0.000000          0.000000  ...        0.000000                0.000000              0.000000                 0.000000\n",
       "25%    20000.000000          0.000000            0.000000          0.000000  ...        0.000000                1.000000              0.000000                 0.000000\n",
       "50%    30000.000000          0.000000            0.000000          0.000000  ...        0.000000                1.000000              0.000000                 0.000000\n",
       "75%    30000.000000          0.000000            0.000000          0.000000  ...        0.000000                1.000000              0.000000                 0.000000\n",
       "max    50000.000000          1.000000            0.900000          0.800000  ...        1.000000                1.000000              0.600000                 1.000000\n",
       "\n",
       "[8 rows x 11 columns]"
      ]
     },
     "execution_count": 9,
     "metadata": {},
     "output_type": "execute_result"
    }
   ],
   "source": [
    "df.describe()"
   ]
  },
  {
   "cell_type": "code",
   "execution_count": 8,
   "metadata": {
    "scrolled": false
   },
   "outputs": [
    {
     "data": {
      "text/plain": [
       "receipt_id                  object\n",
       "company_id                   int64\n",
       "matched_transaction_id      object\n",
       "feature_transaction_id      object\n",
       "DateMappingMatch           float64\n",
       "AmountMappingMatch         float64\n",
       "DescriptionMatch           float64\n",
       "DifferentPredictedTime     float64\n",
       "TimeMappingMatch           float64\n",
       "PredictedNameMatch         float64\n",
       "ShortNameMatch             float64\n",
       "DifferentPredictedDate     float64\n",
       "PredictedAmountMatch       float64\n",
       "PredictedTimeCloseMatch    float64\n",
       "dtype: object"
      ]
     },
     "execution_count": 8,
     "metadata": {},
     "output_type": "execute_result"
    }
   ],
   "source": [
    "df.dtypes"
   ]
  },
  {
   "cell_type": "code",
   "execution_count": 10,
   "metadata": {},
   "outputs": [
    {
     "data": {
      "text/plain": [
       "receipt_id                 0\n",
       "company_id                 0\n",
       "matched_transaction_id     0\n",
       "feature_transaction_id     0\n",
       "DateMappingMatch           0\n",
       "AmountMappingMatch         0\n",
       "DescriptionMatch           0\n",
       "DifferentPredictedTime     0\n",
       "TimeMappingMatch           0\n",
       "PredictedNameMatch         0\n",
       "ShortNameMatch             0\n",
       "DifferentPredictedDate     0\n",
       "PredictedAmountMatch       0\n",
       "PredictedTimeCloseMatch    0\n",
       "dtype: int64"
      ]
     },
     "execution_count": 10,
     "metadata": {},
     "output_type": "execute_result"
    }
   ],
   "source": [
    "df.isna().sum()"
   ]
  },
  {
   "cell_type": "code",
   "execution_count": 6,
   "metadata": {
    "scrolled": true
   },
   "outputs": [
    {
     "data": {
      "application/vnd.jupyter.widget-view+json": {
       "model_id": "f3ebcaef69dd423c87232da90c6079fe",
       "version_major": 2,
       "version_minor": 0
      },
      "text/plain": [
       "Summarize dataset:   0%|          | 0/27 [00:00<?, ?it/s]"
      ]
     },
     "metadata": {},
     "output_type": "display_data"
    },
    {
     "data": {
      "application/vnd.jupyter.widget-view+json": {
       "model_id": "2b0c579c495d4743ac3366b37fce6139",
       "version_major": 2,
       "version_minor": 0
      },
      "text/plain": [
       "Generate report structure:   0%|          | 0/1 [00:00<?, ?it/s]"
      ]
     },
     "metadata": {},
     "output_type": "display_data"
    },
    {
     "data": {
      "application/vnd.jupyter.widget-view+json": {
       "model_id": "0429e0e6c34446b6897d07ad82cbdfa5",
       "version_major": 2,
       "version_minor": 0
      },
      "text/plain": [
       "Render HTML:   0%|          | 0/1 [00:00<?, ?it/s]"
      ]
     },
     "metadata": {},
     "output_type": "display_data"
    },
    {
     "data": {
      "application/vnd.jupyter.widget-view+json": {
       "model_id": "862550852a1e41708f36bc516e5875ed",
       "version_major": 2,
       "version_minor": 0
      },
      "text/plain": [
       "Export report to file:   0%|          | 0/1 [00:00<?, ?it/s]"
      ]
     },
     "metadata": {},
     "output_type": "display_data"
    }
   ],
   "source": [
    "prof = ProfileReport(df)\n",
    "prof.to_file(output_file='EDA.html')"
   ]
  },
  {
   "cell_type": "code",
   "execution_count": 11,
   "metadata": {
    "scrolled": true
   },
   "outputs": [
    {
     "data": {
      "image/png": "[encoded data removed]",
      "text/plain": [
       "<Figure size 720x720 with 2 Axes>"
      ]
     },
     "metadata": {
      "needs_background": "light"
     },
     "output_type": "display_data"
    }
   ],
   "source": [
    "plt.figure(figsize=(10, 10))\n",
    "sns.heatmap(df.corr(), annot=True, linewidths=0.05, fmt= '.2f',cmap=\"magma\")\n",
    "plt.show()"
   ]
  },
  {
   "cell_type": "code",
   "execution_count": 14,
   "metadata": {},
   "outputs": [],
   "source": [
    "feature_columns = ['DateMappingMatch', 'AmountMappingMatch','DescriptionMatch', 'DifferentPredictedTime', 'TimeMappingMatch',\n",
    "                   'PredictedNameMatch', 'ShortNameMatch', 'DifferentPredictedDate','PredictedAmountMatch', 'PredictedTimeCloseMatch']"
   ]
  },
  {
   "cell_type": "code",
   "execution_count": 16,
   "metadata": {},
   "outputs": [
    {
     "data": {
      "image/png": "[encoded data removed]",
      "text/plain": [
       "<Figure size 1296x864 with 10 Axes>"
      ]
     },
     "metadata": {
      "needs_background": "light"
     },
     "output_type": "display_data"
    }
   ],
   "source": [
    "fig, axes = plt.subplots(2, 5,figsize=(18,12))\n",
    "\n",
    "# unpack all the axes subplots\n",
    "axe = axes.ravel()\n",
    "\n",
    "# assign the plot to each subplot in axe\n",
    "for i, c in enumerate(feature_columns):\n",
    "    sns.distplot(df[c],ax=axe[i])\n",
    "    \n",
    "plt.show()"
   ]
  },
  {
   "cell_type": "markdown",
   "metadata": {},
   "source": [
    "###  Insights"
   ]
  },
  {
   "cell_type": "markdown",
   "metadata": {},
   "source": [
    "From the primary EDA , we can understand the following from the data\n",
    "\n",
    "- Data contains 12034 rows with 1155 distinct receipts\n",
    "- There are 4 Identifier columns and 10 feature columns in the data\n",
    "- These are transactions from 5 different companies\n",
    "- All the feature columns are either binary or float value ranging between 0,1\n",
    "- The feature columns are values obtained by similarity matching at different levels of a transaction against an     original transaction\n",
    "- There exists high negative correlation between these columns\n",
    "    - DateMappingMatch --> DifferentPredictedDate\n",
    "    - TimeMappingMatch --> DifferentPredictedTime"
   ]
  },
  {
   "cell_type": "markdown",
   "metadata": {},
   "source": [
    "## Data Preparation"
   ]
  },
  {
   "cell_type": "code",
   "execution_count": 18,
   "metadata": {},
   "outputs": [],
   "source": [
    "df.replace(',','', regex=True, inplace=True)"
   ]
  },
  {
   "cell_type": "code",
   "execution_count": 19,
   "metadata": {},
   "outputs": [
    {
     "data": {
      "text/html": [
       "<div>\n",
       "<style scoped>\n",
       "    .dataframe tbody tr th:only-of-type {\n",
       "        vertical-align: middle;\n",
       "    }\n",
       "\n",
       "    .dataframe tbody tr th {\n",
       "        vertical-align: top;\n",
       "    }\n",
       "\n",
       "    .dataframe thead th {\n",
       "        text-align: right;\n",
       "    }\n",
       "</style>\n",
       "<table border=\"1\" class=\"dataframe\">\n",
       "  <thead>\n",
       "    <tr style=\"text-align: right;\">\n",
       "      <th></th>\n",
       "      <th>receipt_id</th>\n",
       "      <th>company_id</th>\n",
       "      <th>matched_transaction_id</th>\n",
       "      <th>feature_transaction_id</th>\n",
       "      <th>DateMappingMatch</th>\n",
       "      <th>AmountMappingMatch</th>\n",
       "      <th>DescriptionMatch</th>\n",
       "      <th>DifferentPredictedTime</th>\n",
       "      <th>TimeMappingMatch</th>\n",
       "      <th>PredictedNameMatch</th>\n",
       "      <th>ShortNameMatch</th>\n",
       "      <th>DifferentPredictedDate</th>\n",
       "      <th>PredictedAmountMatch</th>\n",
       "      <th>PredictedTimeCloseMatch</th>\n",
       "    </tr>\n",
       "  </thead>\n",
       "  <tbody>\n",
       "    <tr>\n",
       "      <th>264</th>\n",
       "      <td>10021</td>\n",
       "      <td>10000</td>\n",
       "      <td>10112</td>\n",
       "      <td>10108</td>\n",
       "      <td>0.00</td>\n",
       "      <td>0.0</td>\n",
       "      <td>0.0</td>\n",
       "      <td>1.0</td>\n",
       "      <td>0.0</td>\n",
       "      <td>0.0</td>\n",
       "      <td>0.0</td>\n",
       "      <td>1.0</td>\n",
       "      <td>0.0</td>\n",
       "      <td>0.0</td>\n",
       "    </tr>\n",
       "    <tr>\n",
       "      <th>265</th>\n",
       "      <td>10021</td>\n",
       "      <td>10000</td>\n",
       "      <td>10112</td>\n",
       "      <td>10109</td>\n",
       "      <td>0.00</td>\n",
       "      <td>0.0</td>\n",
       "      <td>0.0</td>\n",
       "      <td>1.0</td>\n",
       "      <td>0.0</td>\n",
       "      <td>0.0</td>\n",
       "      <td>0.0</td>\n",
       "      <td>1.0</td>\n",
       "      <td>0.0</td>\n",
       "      <td>0.0</td>\n",
       "    </tr>\n",
       "    <tr>\n",
       "      <th>266</th>\n",
       "      <td>10021</td>\n",
       "      <td>10000</td>\n",
       "      <td>10112</td>\n",
       "      <td>10110</td>\n",
       "      <td>0.00</td>\n",
       "      <td>0.0</td>\n",
       "      <td>0.0</td>\n",
       "      <td>1.0</td>\n",
       "      <td>0.0</td>\n",
       "      <td>0.0</td>\n",
       "      <td>0.0</td>\n",
       "      <td>1.0</td>\n",
       "      <td>0.0</td>\n",
       "      <td>0.0</td>\n",
       "    </tr>\n",
       "    <tr>\n",
       "      <th>267</th>\n",
       "      <td>10021</td>\n",
       "      <td>10000</td>\n",
       "      <td>10112</td>\n",
       "      <td>10112</td>\n",
       "      <td>0.95</td>\n",
       "      <td>0.0</td>\n",
       "      <td>0.0</td>\n",
       "      <td>1.0</td>\n",
       "      <td>0.0</td>\n",
       "      <td>0.6</td>\n",
       "      <td>0.0</td>\n",
       "      <td>0.0</td>\n",
       "      <td>0.0</td>\n",
       "      <td>0.0</td>\n",
       "    </tr>\n",
       "    <tr>\n",
       "      <th>268</th>\n",
       "      <td>10021</td>\n",
       "      <td>10000</td>\n",
       "      <td>10112</td>\n",
       "      <td>10113</td>\n",
       "      <td>0.95</td>\n",
       "      <td>0.0</td>\n",
       "      <td>0.0</td>\n",
       "      <td>1.0</td>\n",
       "      <td>0.0</td>\n",
       "      <td>0.0</td>\n",
       "      <td>0.0</td>\n",
       "      <td>0.0</td>\n",
       "      <td>0.0</td>\n",
       "      <td>0.0</td>\n",
       "    </tr>\n",
       "    <tr>\n",
       "      <th>269</th>\n",
       "      <td>10021</td>\n",
       "      <td>10000</td>\n",
       "      <td>10112</td>\n",
       "      <td>10114</td>\n",
       "      <td>0.95</td>\n",
       "      <td>0.0</td>\n",
       "      <td>0.0</td>\n",
       "      <td>1.0</td>\n",
       "      <td>0.0</td>\n",
       "      <td>0.0</td>\n",
       "      <td>0.0</td>\n",
       "      <td>0.0</td>\n",
       "      <td>0.0</td>\n",
       "      <td>0.0</td>\n",
       "    </tr>\n",
       "  </tbody>\n",
       "</table>\n",
       "</div>"
      ],
      "text/plain": [
       "    receipt_id  company_id matched_transaction_id feature_transaction_id  ...  ShortNameMatch  DifferentPredictedDate  PredictedAmountMatch  PredictedTimeCloseMatch\n",
       "264      10021       10000                  10112                  10108  ...             0.0                     1.0                   0.0                      0.0\n",
       "265      10021       10000                  10112                  10109  ...             0.0                     1.0                   0.0                      0.0\n",
       "266      10021       10000                  10112                  10110  ...             0.0                     1.0                   0.0                      0.0\n",
       "267      10021       10000                  10112                  10112  ...             0.0                     0.0                   0.0                      0.0\n",
       "268      10021       10000                  10112                  10113  ...             0.0                     0.0                   0.0                      0.0\n",
       "269      10021       10000                  10112                  10114  ...             0.0                     0.0                   0.0                      0.0\n",
       "\n",
       "[6 rows x 14 columns]"
      ]
     },
     "execution_count": 19,
     "metadata": {},
     "output_type": "execute_result"
    }
   ],
   "source": [
    "df[df['matched_transaction_id']==\"10112\"]"
   ]
  },
  {
   "cell_type": "markdown",
   "metadata": {},
   "source": [
    "Here we have an example of one receipt where the real transaction id is \"10112\" in matched_transaction_id columns\n",
    "and all the transactions which got matched against it are in feature_transaction_id column. \n",
    "\n",
    "Here row 267 is the Correct match for transaction 10112 since matched_transaction_id and feature_transaction_id is\n",
    "same [as per problem statement]\n",
    "\n",
    "So using this idea , we can create a Target column which gives us idea about which transactions are the original matching transaction for a matched_transaction_id"
   ]
  },
  {
   "cell_type": "code",
   "execution_count": 20,
   "metadata": {},
   "outputs": [],
   "source": [
    "df['CorrectMatch'] = np.where(df['matched_transaction_id']==df['feature_transaction_id'],1,0)"
   ]
  },
  {
   "cell_type": "code",
   "execution_count": 51,
   "metadata": {},
   "outputs": [
    {
     "name": "stdout",
     "output_type": "stream",
     "text": [
      "0    11177\n",
      "1      857\n",
      "Name: CorrectMatch, dtype: int64\n"
     ]
    }
   ],
   "source": [
    "print(df['CorrectMatch'].value_counts())"
   ]
  },
  {
   "cell_type": "markdown",
   "metadata": {},
   "source": [
    "Out of 1155 transaction , we know the original transaction for 857 of them\n",
    "\n",
    "We can make a subset out of our existing dataframe to get the transactions which have an original transaction in the given scenario which gets some noisy data out"
   ]
  },
  {
   "cell_type": "code",
   "execution_count": 24,
   "metadata": {},
   "outputs": [],
   "source": [
    "ids_with_original_transactions = df[df['CorrectMatch']==1].matched_transaction_id.to_list()\n",
    "\n",
    "match_trans_df = df[df['matched_transaction_id'].isin(ids_with_original_transactions)]"
   ]
  },
  {
   "cell_type": "code",
   "execution_count": 27,
   "metadata": {},
   "outputs": [
    {
     "data": {
      "text/plain": [
       "(6468, 15)"
      ]
     },
     "execution_count": 27,
     "metadata": {},
     "output_type": "execute_result"
    }
   ],
   "source": [
    "match_trans_df.shape"
   ]
  },
  {
   "cell_type": "code",
   "execution_count": 34,
   "metadata": {},
   "outputs": [
    {
     "data": {
      "text/plain": [
       "7.5472578763127185"
      ]
     },
     "execution_count": 34,
     "metadata": {},
     "output_type": "execute_result"
    }
   ],
   "source": [
    "6468/857"
   ]
  },
  {
   "cell_type": "markdown",
   "metadata": {},
   "source": [
    "- We have 6468 transactions corresponding to 857 original transactions\n",
    "- On Average we have around 7 transactions per one original transaction"
   ]
  },
  {
   "cell_type": "markdown",
   "metadata": {},
   "source": [
    "We can also observe that for some transactions sets with Correct Match , the feature columns are same for both Correct as well as incorrect match\n",
    "\n",
    "eg:-\n"
   ]
  },
  {
   "cell_type": "code",
   "execution_count": 35,
   "metadata": {},
   "outputs": [
    {
     "data": {
      "text/html": [
       "<div>\n",
       "<style scoped>\n",
       "    .dataframe tbody tr th:only-of-type {\n",
       "        vertical-align: middle;\n",
       "    }\n",
       "\n",
       "    .dataframe tbody tr th {\n",
       "        vertical-align: top;\n",
       "    }\n",
       "\n",
       "    .dataframe thead th {\n",
       "        text-align: right;\n",
       "    }\n",
       "</style>\n",
       "<table border=\"1\" class=\"dataframe\">\n",
       "  <thead>\n",
       "    <tr style=\"text-align: right;\">\n",
       "      <th></th>\n",
       "      <th>receipt_id</th>\n",
       "      <th>company_id</th>\n",
       "      <th>matched_transaction_id</th>\n",
       "      <th>feature_transaction_id</th>\n",
       "      <th>DateMappingMatch</th>\n",
       "      <th>AmountMappingMatch</th>\n",
       "      <th>DescriptionMatch</th>\n",
       "      <th>DifferentPredictedTime</th>\n",
       "      <th>TimeMappingMatch</th>\n",
       "      <th>PredictedNameMatch</th>\n",
       "      <th>ShortNameMatch</th>\n",
       "      <th>DifferentPredictedDate</th>\n",
       "      <th>PredictedAmountMatch</th>\n",
       "      <th>PredictedTimeCloseMatch</th>\n",
       "      <th>CorrectMatch</th>\n",
       "    </tr>\n",
       "  </thead>\n",
       "  <tbody>\n",
       "    <tr>\n",
       "      <th>1427</th>\n",
       "      <td>10133</td>\n",
       "      <td>10000</td>\n",
       "      <td>10113</td>\n",
       "      <td>10108</td>\n",
       "      <td>0.00</td>\n",
       "      <td>0.0</td>\n",
       "      <td>0.0</td>\n",
       "      <td>1.0</td>\n",
       "      <td>0.0</td>\n",
       "      <td>0.0</td>\n",
       "      <td>0.0</td>\n",
       "      <td>1.0</td>\n",
       "      <td>0.0</td>\n",
       "      <td>0.0</td>\n",
       "      <td>0</td>\n",
       "    </tr>\n",
       "    <tr>\n",
       "      <th>1428</th>\n",
       "      <td>10133</td>\n",
       "      <td>10000</td>\n",
       "      <td>10113</td>\n",
       "      <td>10109</td>\n",
       "      <td>0.00</td>\n",
       "      <td>0.0</td>\n",
       "      <td>0.0</td>\n",
       "      <td>1.0</td>\n",
       "      <td>0.0</td>\n",
       "      <td>0.0</td>\n",
       "      <td>0.0</td>\n",
       "      <td>1.0</td>\n",
       "      <td>0.0</td>\n",
       "      <td>0.0</td>\n",
       "      <td>0</td>\n",
       "    </tr>\n",
       "    <tr>\n",
       "      <th>1429</th>\n",
       "      <td>10133</td>\n",
       "      <td>10000</td>\n",
       "      <td>10113</td>\n",
       "      <td>10110</td>\n",
       "      <td>0.00</td>\n",
       "      <td>0.0</td>\n",
       "      <td>0.0</td>\n",
       "      <td>1.0</td>\n",
       "      <td>0.0</td>\n",
       "      <td>0.0</td>\n",
       "      <td>0.0</td>\n",
       "      <td>1.0</td>\n",
       "      <td>0.0</td>\n",
       "      <td>0.0</td>\n",
       "      <td>0</td>\n",
       "    </tr>\n",
       "    <tr>\n",
       "      <th>1430</th>\n",
       "      <td>10133</td>\n",
       "      <td>10000</td>\n",
       "      <td>10113</td>\n",
       "      <td>10112</td>\n",
       "      <td>0.95</td>\n",
       "      <td>0.0</td>\n",
       "      <td>0.0</td>\n",
       "      <td>1.0</td>\n",
       "      <td>0.0</td>\n",
       "      <td>0.0</td>\n",
       "      <td>0.0</td>\n",
       "      <td>0.0</td>\n",
       "      <td>0.0</td>\n",
       "      <td>0.0</td>\n",
       "      <td>0</td>\n",
       "    </tr>\n",
       "    <tr>\n",
       "      <th>1431</th>\n",
       "      <td>10133</td>\n",
       "      <td>10000</td>\n",
       "      <td>10113</td>\n",
       "      <td>10113</td>\n",
       "      <td>0.95</td>\n",
       "      <td>0.0</td>\n",
       "      <td>0.0</td>\n",
       "      <td>1.0</td>\n",
       "      <td>0.0</td>\n",
       "      <td>0.0</td>\n",
       "      <td>0.0</td>\n",
       "      <td>0.0</td>\n",
       "      <td>0.0</td>\n",
       "      <td>0.0</td>\n",
       "      <td>1</td>\n",
       "    </tr>\n",
       "    <tr>\n",
       "      <th>1432</th>\n",
       "      <td>10133</td>\n",
       "      <td>10000</td>\n",
       "      <td>10113</td>\n",
       "      <td>10114</td>\n",
       "      <td>0.95</td>\n",
       "      <td>0.0</td>\n",
       "      <td>0.0</td>\n",
       "      <td>1.0</td>\n",
       "      <td>0.0</td>\n",
       "      <td>0.0</td>\n",
       "      <td>0.0</td>\n",
       "      <td>0.0</td>\n",
       "      <td>0.0</td>\n",
       "      <td>0.0</td>\n",
       "      <td>0</td>\n",
       "    </tr>\n",
       "  </tbody>\n",
       "</table>\n",
       "</div>"
      ],
      "text/plain": [
       "     receipt_id  company_id matched_transaction_id feature_transaction_id  ...  DifferentPredictedDate  PredictedAmountMatch  PredictedTimeCloseMatch  CorrectMatch\n",
       "1427      10133       10000                  10113                  10108  ...                     1.0                   0.0                      0.0             0\n",
       "1428      10133       10000                  10113                  10109  ...                     1.0                   0.0                      0.0             0\n",
       "1429      10133       10000                  10113                  10110  ...                     1.0                   0.0                      0.0             0\n",
       "1430      10133       10000                  10113                  10112  ...                     0.0                   0.0                      0.0             0\n",
       "1431      10133       10000                  10113                  10113  ...                     0.0                   0.0                      0.0             1\n",
       "1432      10133       10000                  10113                  10114  ...                     0.0                   0.0                      0.0             0\n",
       "\n",
       "[6 rows x 15 columns]"
      ]
     },
     "execution_count": 35,
     "metadata": {},
     "output_type": "execute_result"
    }
   ],
   "source": [
    "match_trans_df[match_trans_df['matched_transaction_id']==\"10113\"]"
   ]
  },
  {
   "cell_type": "markdown",
   "metadata": {},
   "source": [
    "Here you can see row number feature_transaction_id 10113  is the original matched transaction , \n",
    "\n",
    "If we check all the 10 feature columns of this transaction , we can see that \n",
    "\n",
    "The feature_transaction_ids 10112 & 10114 has exact same similarity feature matrix as 10113 which means that whatever technique we use , those three transactions will have the same score/features\n",
    "\n",
    "Which essentially tells us that Both Incorrect and Correct Transaction has same feature vector within a matched_transaction_id\n",
    "\n",
    "We don't have to filter them out because from the business context , what we are trying to acheive is to give the best matching transactions on top . So even if the similarity vectors are same for both Correct & Incorrect transactions , we just need to make sure that those transactions are the ones which comes on top which will defenitely include the Correct transaction"
   ]
  },
  {
   "cell_type": "code",
   "execution_count": 36,
   "metadata": {},
   "outputs": [],
   "source": [
    "transactions_unique = match_trans_df.groupby(['matched_transaction_id']+feature_columns).agg({'CorrectMatch':'unique'}).reset_index()\n",
    "transactions_unique['Count'] = transactions_unique['CorrectMatch'].apply(lambda x : len(x))"
   ]
  },
  {
   "cell_type": "code",
   "execution_count": 37,
   "metadata": {},
   "outputs": [],
   "source": [
    "duplicated_transaction = transactions_unique[transactions_unique['Count']>1]['matched_transaction_id'].to_list()"
   ]
  },
  {
   "cell_type": "code",
   "execution_count": 42,
   "metadata": {},
   "outputs": [
    {
     "data": {
      "text/plain": [
       "262"
      ]
     },
     "execution_count": 42,
     "metadata": {},
     "output_type": "execute_result"
    }
   ],
   "source": [
    "len(duplicated_transaction)"
   ]
  },
  {
   "cell_type": "markdown",
   "metadata": {},
   "source": [
    "We have 262 such cases where Both Correct and Incorrect matches for a transaction is has same feature vector"
   ]
  },
  {
   "cell_type": "markdown",
   "metadata": {},
   "source": [
    "### Feature Selection"
   ]
  },
  {
   "cell_type": "markdown",
   "metadata": {},
   "source": [
    "Primarily I'll go through some Data Visualizations and will try to deduce feature columns from them using the Labells which we have created"
   ]
  },
  {
   "cell_type": "code",
   "execution_count": 315,
   "metadata": {
    "scrolled": true
   },
   "outputs": [
    {
     "data": {
      "image/png": "[encoded data removed]",
      "text/plain": [
       "<Figure size 1440x864 with 10 Axes>"
      ]
     },
     "metadata": {
      "needs_background": "light"
     },
     "output_type": "display_data"
    }
   ],
   "source": [
    "fig, axes = plt.subplots(2, 5,figsize=(20,12))\n",
    "\n",
    "# unpack all the axes subplots\n",
    "axe = axes.ravel()\n",
    "\n",
    "# assign the plot to each subplot in axe\n",
    "for i, c in enumerate(feature_columns):\n",
    "    sns.violinplot(x=\"CorrectMatch\", y=c,  data=match_trans_df, cut = 0,ax=axe[i])\n",
    "    \n",
    "plt.show()"
   ]
  },
  {
   "cell_type": "code",
   "execution_count": 316,
   "metadata": {
    "scrolled": true
   },
   "outputs": [
    {
     "data": {
      "image/png": "[encoded data removed]",
      "text/plain": [
       "<Figure size 1440x864 with 10 Axes>"
      ]
     },
     "metadata": {
      "needs_background": "light"
     },
     "output_type": "display_data"
    }
   ],
   "source": [
    "fig, axes = plt.subplots(2, 5,figsize=(20,12))\n",
    "\n",
    "# unpack all the axes subplots\n",
    "axe = axes.ravel()\n",
    "\n",
    "# assign the plot to each subplot in axe\n",
    "for i, c in enumerate(feature_columns):\n",
    "    pd.crosstab(match_trans_df[c],match_trans_df['CorrectMatch'], normalize='index').plot(kind='bar',ax=axe[i])\n",
    "    \n",
    "plt.show()"
   ]
  },
  {
   "cell_type": "markdown",
   "metadata": {},
   "source": [
    "From the plot and values , we can see which features are having \n",
    "- positive impact ( Value increases --> Higher chance of being Correct Match)\n",
    "    - DateMappingMatch - Medium Positive impact\n",
    "    - AmountMappingMatch - High positive impact\n",
    "    - DescriptionMatch - High positive impact\n",
    "    - TimeMappingMatch - High positive impact\n",
    "    - PredictedNameMatch - High positive impact\n",
    "    - ShortNameMatch - Weak/Medium positive impact\n",
    "    - PredictedAmountMatch - High positive impact\n",
    "    - PredictedTimeCloseMatch - Weak positive impact\n",
    "    \n",
    "- negative impact( Value Increases --> Higher chance of being an Incorrect Match)\n",
    "    - DifferentPredictedDate - High negatie impact\n",
    "    - DifferentPredictedTime - High negative impact"
   ]
  },
  {
   "cell_type": "code",
   "execution_count": 49,
   "metadata": {
    "scrolled": true
   },
   "outputs": [
    {
     "name": "stdout",
     "output_type": "stream",
     "text": [
      "CorrectMatch             0         1\n",
      "DateMappingMatch                    \n",
      "0.000             0.996628  0.003372\n",
      "0.525             1.000000  0.000000\n",
      "0.550             1.000000  0.000000\n",
      "0.650             1.000000  0.000000\n",
      "0.725             1.000000  0.000000\n",
      "0.750             1.000000  0.000000\n",
      "0.825             0.726744  0.273256\n",
      "0.850             0.686833  0.313167\n",
      "0.900             0.660377  0.339623\n",
      "0.950             0.663761  0.336239\n",
      "1.000             0.722222  0.277778\n",
      "CorrectMatch               0         1\n",
      "AmountMappingMatch                    \n",
      "0.0                 0.867718  0.132282\n",
      "0.4                 0.880000  0.120000\n",
      "0.6                 1.000000  0.000000\n",
      "0.7                 0.812500  0.187500\n",
      "0.9                 0.333333  0.666667\n",
      "CorrectMatch             0         1\n",
      "DescriptionMatch                    \n",
      "0.0               0.894434  0.105566\n",
      "0.2               0.518519  0.481481\n",
      "0.4               0.558333  0.441667\n",
      "0.6               0.380952  0.619048\n",
      "0.8               0.322981  0.677019\n",
      "CorrectMatch                   0         1\n",
      "DifferentPredictedTime                    \n",
      "0.0                     0.076923  0.923077\n",
      "1.0                     0.887041  0.112959\n",
      "CorrectMatch             0         1\n",
      "TimeMappingMatch                    \n",
      "0.0               0.887462  0.112538\n",
      "1.0               0.075472  0.924528\n",
      "CorrectMatch               0         1\n",
      "PredictedNameMatch                    \n",
      "0.0                 0.889494  0.110506\n",
      "0.2                 0.777778  0.222222\n",
      "0.4                 0.900000  0.100000\n",
      "0.6                 0.628205  0.371795\n",
      "0.8                 0.384937  0.615063\n",
      "CorrectMatch           0         1\n",
      "ShortNameMatch                    \n",
      "0.0             0.895493  0.104507\n",
      "1.0             0.454988  0.545012\n",
      "CorrectMatch                   0         1\n",
      "DifferentPredictedDate                    \n",
      "0.0                     0.709522  0.290478\n",
      "1.0                     0.996628  0.003372\n",
      "CorrectMatch                 0         1\n",
      "PredictedAmountMatch                    \n",
      "0.0                   0.868964  0.131036\n",
      "0.1                   0.818182  0.181818\n",
      "0.2                   0.000000  1.000000\n",
      "0.4                   1.000000  0.000000\n",
      "0.5                   0.222222  0.777778\n",
      "0.6                   0.000000  1.000000\n",
      "CorrectMatch                    0         1\n",
      "PredictedTimeCloseMatch                    \n",
      "0.0                      0.893261  0.106739\n",
      "1.0                      0.663448  0.336552\n"
     ]
    }
   ],
   "source": [
    "for col in feature_columns:\n",
    "    print(pd.crosstab(match_trans_df[col],match_trans_df['CorrectMatch'],normalize='index'))"
   ]
  },
  {
   "cell_type": "markdown",
   "metadata": {},
   "source": [
    "From the EDA , we know columns which have high correlation.\n",
    "\n",
    "- DateMappingMatch --> DifferentPredictedDate:\n",
    "    - Here we can see that DateMappingMatch column gives better predictive power since most the positive classes occur above 0.75 only and it being a continous variable can give better results when compared to a boolean value\n",
    "- TimeMappingMatch --> DifferentPredictedTime:\n",
    "    - There isn't much difference if we check their crosstabulation values , Still TimeMappingMatch seems to be a slightly better choice when compared to DifferentPredictedTime\n",
    "    "
   ]
  },
  {
   "cell_type": "markdown",
   "metadata": {},
   "source": [
    "## Model Building - Primary (Linear Sum)"
   ]
  },
  {
   "cell_type": "markdown",
   "metadata": {},
   "source": [
    "Since the labels which we have are boolean and what we are trying to acheive is a likelihood score amount a set of transaction to be a correct transaction . \n",
    "\n",
    "My first thought of looking at is to create an Indexed score which can identify the Correct transaction inside a set of matched transactions and then use that to train a regression model\n",
    "\n",
    "But first i need to make sure that the Indexed Score which i create can be a good indicator\n",
    "\n",
    "I'll use the above identified feature importances to bin them into positive and negative groups and then try to find linear coefficients which gives the best results"
   ]
  },
  {
   "cell_type": "code",
   "execution_count": 232,
   "metadata": {},
   "outputs": [],
   "source": [
    "high_pos = ['AmountMappingMatch','DescriptionMatch','TimeMappingMatch','PredictedNameMatch','PredictedAmountMatch','ShortNameMatch']\n",
    "med_pos = ['DateMappingMatch']\n",
    "low_pos = ['PredictedTimeCloseMatch']\n",
    "high_neg = ['DifferentPredictedDate','DifferentPredictedTime']"
   ]
  },
  {
   "cell_type": "markdown",
   "metadata": {},
   "source": [
    "Here , I'm not excluding highly correlated columns since the small changes which occurs among them can lead to improved efficiency . \n",
    "\n",
    "Since it is a linear sum , wouldn't be much of a problem there"
   ]
  },
  {
   "cell_type": "code",
   "execution_count": 237,
   "metadata": {},
   "outputs": [],
   "source": [
    "match_trans_df['Similarity_Score'] = (1.5 * match_trans_df[high_pos].sum(axis=1)) + (0.8 * match_trans_df[med_pos].sum(axis=1)) + (0.01 * match_trans_df[low_pos].sum(axis=1)) - (1.3 * match_trans_df[high_neg].sum(axis=1))"
   ]
  },
  {
   "cell_type": "code",
   "execution_count": 238,
   "metadata": {},
   "outputs": [],
   "source": [
    "match_trans_df['High_Similarity'] = match_trans_df.groupby('matched_transaction_id')['Similarity_Score'].transform('max')"
   ]
  },
  {
   "cell_type": "code",
   "execution_count": 239,
   "metadata": {},
   "outputs": [],
   "source": [
    "match_trans_df['Predicted_Similarity'] = np.where(match_trans_df['Similarity_Score']==match_trans_df['High_Similarity'],1,0)"
   ]
  },
  {
   "cell_type": "code",
   "execution_count": 240,
   "metadata": {},
   "outputs": [
    {
     "data": {
      "text/plain": [
       "1    784\n",
       "0    664\n",
       "Name: CorrectMatch, dtype: int64"
      ]
     },
     "execution_count": 240,
     "metadata": {},
     "output_type": "execute_result"
    }
   ],
   "source": [
    "match_trans_df[match_trans_df['Predicted_Similarity']==1]['CorrectMatch'].value_counts()"
   ]
  },
  {
   "cell_type": "markdown",
   "metadata": {},
   "source": [
    "Here we will be not looking at individual transaction per se . But we'll be looking at unique matched_transaction_id level.\n",
    "\n",
    "Our goal is to find out the matching transaction among a subset of transaction rather than checking against all the transactions.\n",
    "\n",
    "So analysis at a unique matched_transaction_id level makes better sense\n"
   ]
  },
  {
   "cell_type": "markdown",
   "metadata": {},
   "source": [
    "So the metric which we'll be most concerned will be \"What proportion of actual positives were identified correctly?\"\n",
    "aka *Recall* "
   ]
  },
  {
   "cell_type": "code",
   "execution_count": 250,
   "metadata": {},
   "outputs": [],
   "source": [
    "def find_metrics(y_test,y_pred):\n",
    "    print(confusion_matrix(y_test,y_pred))\n",
    "    print(\"Recall :{}\".format(recall_score(y_test,y_pred)))"
   ]
  },
  {
   "cell_type": "code",
   "execution_count": 252,
   "metadata": {},
   "outputs": [
    {
     "name": "stdout",
     "output_type": "stream",
     "text": [
      "[[4947  664]\n",
      " [  73  784]]\n",
      "Recall :0.9148191365227538\n"
     ]
    }
   ],
   "source": [
    "find_metrics(match_trans_df['CorrectMatch'],match_trans_df['Predicted_Similarity'])"
   ]
  },
  {
   "cell_type": "markdown",
   "metadata": {},
   "source": [
    "I have used Weight of Evidence & Information Value for optimizing the weights for each of the feature in the feature list ,\n",
    "but it seems to perform badly \n",
    "\n",
    "So i've gone with manual findings"
   ]
  },
  {
   "cell_type": "code",
   "execution_count": 253,
   "metadata": {},
   "outputs": [],
   "source": [
    "match_trans_df['Score'] = match_trans_df['Similarity_Score'].apply(lambda x : (x - match_trans_df.Similarity_Score.min())/(match_trans_df.Similarity_Score.max() - match_trans_df.Similarity_Score.min()))"
   ]
  },
  {
   "cell_type": "code",
   "execution_count": 254,
   "metadata": {},
   "outputs": [
    {
     "data": {
      "text/plain": [
       "20       0.068807\n",
       "21       0.000000\n",
       "22       0.000000\n",
       "23       0.000000\n",
       "24       0.000000\n",
       "           ...   \n",
       "12029    0.208716\n",
       "12030    0.208716\n",
       "12031    0.000000\n",
       "12032    0.000000\n",
       "12033    0.236239\n",
       "Name: Score, Length: 6468, dtype: float64"
      ]
     },
     "execution_count": 254,
     "metadata": {},
     "output_type": "execute_result"
    }
   ],
   "source": [
    "match_trans_df['Score']"
   ]
  },
  {
   "cell_type": "markdown",
   "metadata": {},
   "source": [
    "Now we have an indexed score for our set . We can use this for building a ML Regressor model for predicting values"
   ]
  },
  {
   "cell_type": "markdown",
   "metadata": {},
   "source": [
    "## ML Model Building - Secondary (Regressor)"
   ]
  },
  {
   "cell_type": "markdown",
   "metadata": {},
   "source": [
    "While building model,  we'll remove the Correlated columns from our observation and non contributing(weak power of prediction) features as well\n",
    "\n",
    "Since this is a regressor , we are not considering the Imbalanced balancing techniques like Oversampling,Undersampling"
   ]
  },
  {
   "cell_type": "code",
   "execution_count": 274,
   "metadata": {
    "scrolled": true
   },
   "outputs": [],
   "source": [
    "test_ = list(match_trans_df['matched_transaction_id'].unique())[:100]"
   ]
  },
  {
   "cell_type": "code",
   "execution_count": 275,
   "metadata": {},
   "outputs": [
    {
     "data": {
      "text/plain": [
       "Index(['receipt_id', 'company_id', 'matched_transaction_id',\n",
       "       'feature_transaction_id', 'DateMappingMatch', 'AmountMappingMatch',\n",
       "       'DescriptionMatch', 'DifferentPredictedTime', 'TimeMappingMatch',\n",
       "       'PredictedNameMatch', 'ShortNameMatch', 'DifferentPredictedDate',\n",
       "       'PredictedAmountMatch', 'PredictedTimeCloseMatch', 'CorrectMatch',\n",
       "       'Similarity_Score', 'High_Similarity', 'Predicted_Similarity', 'Score'],\n",
       "      dtype='object')"
      ]
     },
     "execution_count": 275,
     "metadata": {},
     "output_type": "execute_result"
    }
   ],
   "source": [
    "match_trans_df.columns"
   ]
  },
  {
   "cell_type": "code",
   "execution_count": 276,
   "metadata": {},
   "outputs": [],
   "source": [
    "f_cols = ['AmountMappingMatch','DescriptionMatch','TimeMappingMatch','PredictedNameMatch','PredictedAmountMatch','DateMappingMatch']"
   ]
  },
  {
   "cell_type": "code",
   "execution_count": 310,
   "metadata": {},
   "outputs": [],
   "source": [
    "X_train = match_trans_df[~(match_trans_df['matched_transaction_id'].isin(test_))]\n",
    "X_test  = match_trans_df[match_trans_df['matched_transaction_id'].isin(test_)]\n",
    "X_val = X_test.copy()"
   ]
  },
  {
   "cell_type": "code",
   "execution_count": 282,
   "metadata": {},
   "outputs": [],
   "source": [
    "X_train,y_train = X_train[f_cols],X_train['Score']\n",
    "X_test,y_test = X_test[f_cols],X_test['Score']"
   ]
  },
  {
   "cell_type": "code",
   "execution_count": 287,
   "metadata": {},
   "outputs": [],
   "source": [
    "n_estimators = [int(x) for x in np.linspace(start = 10, stop = 120, num = 10)]\n",
    "\n",
    "max_features = ['auto', 'sqrt']\n",
    "\n",
    "max_depth = [int(x) for x in np.linspace(6, 25, num = 10)]\n",
    "max_depth.append(None)\n",
    "\n",
    "min_samples_split = [2, 5, 10]\n",
    "\n",
    "min_samples_leaf = [1, 2, 4]\n",
    "\n",
    "bootstrap = [True, False]\n",
    "\n",
    "random_grid = {'n_estimators': n_estimators,\n",
    "               'max_features': max_features,\n",
    "               'max_depth': max_depth,\n",
    "               'min_samples_split': min_samples_split,\n",
    "               'min_samples_leaf': min_samples_leaf,\n",
    "               'bootstrap': bootstrap}"
   ]
  },
  {
   "cell_type": "code",
   "execution_count": 288,
   "metadata": {},
   "outputs": [
    {
     "name": "stdout",
     "output_type": "stream",
     "text": [
      "{'bootstrap': [True, False],\n",
      " 'max_depth': [6, 8, 10, 12, 14, 16, 18, 20, 22, 25, None],\n",
      " 'max_features': ['auto', 'sqrt'],\n",
      " 'min_samples_leaf': [1, 2, 4],\n",
      " 'min_samples_split': [2, 5, 10],\n",
      " 'n_estimators': [10, 22, 34, 46, 58, 71, 83, 95, 107, 120]}\n"
     ]
    }
   ],
   "source": [
    "pprint(random_grid)"
   ]
  },
  {
   "cell_type": "code",
   "execution_count": 289,
   "metadata": {},
   "outputs": [
    {
     "name": "stdout",
     "output_type": "stream",
     "text": [
      "Fitting 3 folds for each of 100 candidates, totalling 300 fits\n"
     ]
    },
    {
     "name": "stderr",
     "output_type": "stream",
     "text": [
      "[Parallel(n_jobs=-1)]: Using backend LokyBackend with 8 concurrent workers.\n",
      "[Parallel(n_jobs=-1)]: Done  25 tasks      | elapsed:   14.6s\n",
      "[Parallel(n_jobs=-1)]: Done 146 tasks      | elapsed:   17.4s\n",
      "[Parallel(n_jobs=-1)]: Done 300 out of 300 | elapsed:   21.8s finished\n"
     ]
    },
    {
     "data": {
      "text/plain": [
       "RandomizedSearchCV(cv=3, estimator=RandomForestRegressor(), n_iter=100,\n",
       "                   n_jobs=-1,\n",
       "                   param_distributions={'bootstrap': [True, False],\n",
       "                                        'max_depth': [6, 8, 10, 12, 14, 16, 18,\n",
       "                                                      20, 22, 25, None],\n",
       "                                        'max_features': ['auto', 'sqrt'],\n",
       "                                        'min_samples_leaf': [1, 2, 4],\n",
       "                                        'min_samples_split': [2, 5, 10],\n",
       "                                        'n_estimators': [10, 22, 34, 46, 58, 71,\n",
       "                                                         83, 95, 107, 120]},\n",
       "                   random_state=42, verbose=2)"
      ]
     },
     "execution_count": 289,
     "metadata": {},
     "output_type": "execute_result"
    }
   ],
   "source": [
    "rf = RandomForestRegressor()\n",
    "\n",
    "rf_random = RandomizedSearchCV(estimator = rf, param_distributions = random_grid, n_iter = 100, cv = 3, verbose=2, random_state=42, n_jobs = -1)\n",
    "\n",
    "rf_random.fit(X_train, y_train)"
   ]
  },
  {
   "cell_type": "code",
   "execution_count": 290,
   "metadata": {},
   "outputs": [
    {
     "data": {
      "text/plain": [
       "{'n_estimators': 71,\n",
       " 'min_samples_split': 10,\n",
       " 'min_samples_leaf': 1,\n",
       " 'max_features': 'sqrt',\n",
       " 'max_depth': 12,\n",
       " 'bootstrap': True}"
      ]
     },
     "execution_count": 290,
     "metadata": {},
     "output_type": "execute_result"
    }
   ],
   "source": [
    "rf_random.best_params_"
   ]
  },
  {
   "cell_type": "code",
   "execution_count": 292,
   "metadata": {},
   "outputs": [],
   "source": [
    "rf = RandomForestRegressor(n_estimators=71,min_samples_split=10,min_samples_leaf=1,max_features= 'sqrt',max_depth=12,bootstrap= True)"
   ]
  },
  {
   "cell_type": "code",
   "execution_count": 293,
   "metadata": {},
   "outputs": [
    {
     "data": {
      "text/plain": [
       "RandomForestRegressor(max_depth=12, max_features='sqrt', min_samples_split=10,\n",
       "                      n_estimators=71)"
      ]
     },
     "execution_count": 293,
     "metadata": {},
     "output_type": "execute_result"
    }
   ],
   "source": [
    "rf.fit(X_train,y_train)"
   ]
  },
  {
   "cell_type": "code",
   "execution_count": 294,
   "metadata": {},
   "outputs": [],
   "source": [
    "y_pred = rf.predict(X_test)"
   ]
  },
  {
   "cell_type": "code",
   "execution_count": 295,
   "metadata": {},
   "outputs": [],
   "source": [
    "d = pd.DataFrame({'Actual':y_test,'Predicted':y_pred})"
   ]
  },
  {
   "cell_type": "code",
   "execution_count": 296,
   "metadata": {},
   "outputs": [
    {
     "data": {
      "text/html": [
       "<div>\n",
       "<style scoped>\n",
       "    .dataframe tbody tr th:only-of-type {\n",
       "        vertical-align: middle;\n",
       "    }\n",
       "\n",
       "    .dataframe tbody tr th {\n",
       "        vertical-align: top;\n",
       "    }\n",
       "\n",
       "    .dataframe thead th {\n",
       "        text-align: right;\n",
       "    }\n",
       "</style>\n",
       "<table border=\"1\" class=\"dataframe\">\n",
       "  <thead>\n",
       "    <tr style=\"text-align: right;\">\n",
       "      <th></th>\n",
       "      <th>Actual</th>\n",
       "      <th>Predicted</th>\n",
       "    </tr>\n",
       "  </thead>\n",
       "  <tbody>\n",
       "    <tr>\n",
       "      <th>20</th>\n",
       "      <td>0.068807</td>\n",
       "      <td>0.080026</td>\n",
       "    </tr>\n",
       "    <tr>\n",
       "      <th>21</th>\n",
       "      <td>0.000000</td>\n",
       "      <td>0.003186</td>\n",
       "    </tr>\n",
       "    <tr>\n",
       "      <th>22</th>\n",
       "      <td>0.000000</td>\n",
       "      <td>0.003186</td>\n",
       "    </tr>\n",
       "    <tr>\n",
       "      <th>23</th>\n",
       "      <td>0.000000</td>\n",
       "      <td>0.003186</td>\n",
       "    </tr>\n",
       "    <tr>\n",
       "      <th>24</th>\n",
       "      <td>0.000000</td>\n",
       "      <td>0.003186</td>\n",
       "    </tr>\n",
       "    <tr>\n",
       "      <th>...</th>\n",
       "      <td>...</td>\n",
       "      <td>...</td>\n",
       "    </tr>\n",
       "    <tr>\n",
       "      <th>1422</th>\n",
       "      <td>0.000000</td>\n",
       "      <td>0.003186</td>\n",
       "    </tr>\n",
       "    <tr>\n",
       "      <th>1423</th>\n",
       "      <td>0.000000</td>\n",
       "      <td>0.003186</td>\n",
       "    </tr>\n",
       "    <tr>\n",
       "      <th>1424</th>\n",
       "      <td>0.000000</td>\n",
       "      <td>0.003186</td>\n",
       "    </tr>\n",
       "    <tr>\n",
       "      <th>1425</th>\n",
       "      <td>0.000000</td>\n",
       "      <td>0.003186</td>\n",
       "    </tr>\n",
       "    <tr>\n",
       "      <th>1426</th>\n",
       "      <td>0.000000</td>\n",
       "      <td>0.003186</td>\n",
       "    </tr>\n",
       "  </tbody>\n",
       "</table>\n",
       "<p>887 rows × 2 columns</p>\n",
       "</div>"
      ],
      "text/plain": [
       "        Actual  Predicted\n",
       "20    0.068807   0.080026\n",
       "21    0.000000   0.003186\n",
       "22    0.000000   0.003186\n",
       "23    0.000000   0.003186\n",
       "24    0.000000   0.003186\n",
       "...        ...        ...\n",
       "1422  0.000000   0.003186\n",
       "1423  0.000000   0.003186\n",
       "1424  0.000000   0.003186\n",
       "1425  0.000000   0.003186\n",
       "1426  0.000000   0.003186\n",
       "\n",
       "[887 rows x 2 columns]"
      ]
     },
     "execution_count": 296,
     "metadata": {},
     "output_type": "execute_result"
    }
   ],
   "source": [
    "d"
   ]
  },
  {
   "cell_type": "code",
   "execution_count": 311,
   "metadata": {},
   "outputs": [],
   "source": [
    "X_val['Predicted'] = y_pred"
   ]
  },
  {
   "cell_type": "code",
   "execution_count": 312,
   "metadata": {},
   "outputs": [],
   "source": [
    "X_val['Sc'] = X_val.groupby('matched_transaction_id')['Predicted'].transform('max')"
   ]
  },
  {
   "cell_type": "code",
   "execution_count": 313,
   "metadata": {},
   "outputs": [],
   "source": [
    "X_val['Pred_to_bin'] = np.where(X_val['Sc']==X_val['Predicted'],1,0)"
   ]
  },
  {
   "cell_type": "code",
   "execution_count": 314,
   "metadata": {},
   "outputs": [
    {
     "name": "stdout",
     "output_type": "stream",
     "text": [
      "[[639 148]\n",
      " [ 13  87]]\n",
      "Recall :0.87\n"
     ]
    }
   ],
   "source": [
    "find_metrics(X_val['CorrectMatch'],X_val['Pred_to_bin'])"
   ]
  },
  {
   "cell_type": "markdown",
   "metadata": {},
   "source": [
    "In The test set also , we were able to get 87 out of 100 Correct Transactions with similarity on top of the list"
   ]
  }
 ],
 "metadata": {
  "kernelspec": {
   "display_name": "Python 3",
   "language": "python",
   "name": "python3"
  },
  "language_info": {
   "codemirror_mode": {
    "name": "ipython",
    "version": 3
   },
   "file_extension": ".py",
   "mimetype": "text/x-python",
   "name": "python",
   "nbconvert_exporter": "python",
   "pygments_lexer": "ipython3",
   "version": "3.6.7"
  }
 },
 "nbformat": 4,
 "nbformat_minor": 2
}
